{
 "cells": [
  {
   "cell_type": "markdown",
   "id": "59dbdcb7",
   "metadata": {},
   "source": [
    "# Bereinigung der Datensätze"
   ]
  },
  {
   "cell_type": "markdown",
   "id": "20b5f2d9",
   "metadata": {},
   "source": [
    "## Kundendaten"
   ]
  },
  {
   "cell_type": "code",
   "execution_count": 1,
   "id": "85af3016",
   "metadata": {},
   "outputs": [],
   "source": [
    "import pandas as pd\n",
    "import matplotlib.pyplot as plt"
   ]
  },
  {
   "cell_type": "code",
   "execution_count": 2,
   "id": "cf24183c",
   "metadata": {},
   "outputs": [],
   "source": [
    "file = 'kunden.csv'"
   ]
  },
  {
   "cell_type": "code",
   "execution_count": 3,
   "id": "fad08255",
   "metadata": {},
   "outputs": [],
   "source": [
    "df = pd.read_csv(file, decimal = '.', sep = \";\")"
   ]
  },
  {
   "cell_type": "code",
   "execution_count": 4,
   "id": "2d227167",
   "metadata": {},
   "outputs": [
    {
     "data": {
      "text/html": [
       "<div>\n",
       "<style scoped>\n",
       "    .dataframe tbody tr th:only-of-type {\n",
       "        vertical-align: middle;\n",
       "    }\n",
       "\n",
       "    .dataframe tbody tr th {\n",
       "        vertical-align: top;\n",
       "    }\n",
       "\n",
       "    .dataframe thead th {\n",
       "        text-align: right;\n",
       "    }\n",
       "</style>\n",
       "<table border=\"1\" class=\"dataframe\">\n",
       "  <thead>\n",
       "    <tr style=\"text-align: right;\">\n",
       "      <th></th>\n",
       "      <th>Alter</th>\n",
       "      <th>Einkommen</th>\n",
       "      <th>Preis</th>\n",
       "      <th>Geschlecht</th>\n",
       "      <th>Zeit</th>\n",
       "      <th>KundeNr</th>\n",
       "    </tr>\n",
       "  </thead>\n",
       "  <tbody>\n",
       "    <tr>\n",
       "      <th>0</th>\n",
       "      <td>64</td>\n",
       "      <td>66894.0</td>\n",
       "      <td>88160.31</td>\n",
       "      <td>1.0</td>\n",
       "      <td>43.0</td>\n",
       "      <td>K0310</td>\n",
       "    </tr>\n",
       "    <tr>\n",
       "      <th>1</th>\n",
       "      <td>54</td>\n",
       "      <td>77644.0</td>\n",
       "      <td>103145.70</td>\n",
       "      <td>1.0</td>\n",
       "      <td>40.0</td>\n",
       "      <td>K1042</td>\n",
       "    </tr>\n",
       "    <tr>\n",
       "      <th>2</th>\n",
       "      <td>55</td>\n",
       "      <td>44341.0</td>\n",
       "      <td>80565.16</td>\n",
       "      <td>0.0</td>\n",
       "      <td>37.0</td>\n",
       "      <td>K0382</td>\n",
       "    </tr>\n",
       "    <tr>\n",
       "      <th>3</th>\n",
       "      <td>49</td>\n",
       "      <td>67271.0</td>\n",
       "      <td>83949.89</td>\n",
       "      <td>0.0</td>\n",
       "      <td>42.0</td>\n",
       "      <td>K0498</td>\n",
       "    </tr>\n",
       "    <tr>\n",
       "      <th>4</th>\n",
       "      <td>46</td>\n",
       "      <td>49832.0</td>\n",
       "      <td>93781.58</td>\n",
       "      <td>0.0</td>\n",
       "      <td>41.0</td>\n",
       "      <td>K0552</td>\n",
       "    </tr>\n",
       "  </tbody>\n",
       "</table>\n",
       "</div>"
      ],
      "text/plain": [
       "   Alter  Einkommen      Preis  Geschlecht  Zeit KundeNr\n",
       "0     64    66894.0   88160.31         1.0  43.0   K0310\n",
       "1     54    77644.0  103145.70         1.0  40.0   K1042\n",
       "2     55    44341.0   80565.16         0.0  37.0   K0382\n",
       "3     49    67271.0   83949.89         0.0  42.0   K0498\n",
       "4     46    49832.0   93781.58         0.0  41.0   K0552"
      ]
     },
     "execution_count": 4,
     "metadata": {},
     "output_type": "execute_result"
    }
   ],
   "source": [
    "df.head()"
   ]
  },
  {
   "cell_type": "code",
   "execution_count": 5,
   "id": "1f0a053f",
   "metadata": {},
   "outputs": [
    {
     "data": {
      "text/plain": [
       "Alter           int64\n",
       "Einkommen     float64\n",
       "Preis         float64\n",
       "Geschlecht    float64\n",
       "Zeit          float64\n",
       "KundeNr        object\n",
       "dtype: object"
      ]
     },
     "execution_count": 5,
     "metadata": {},
     "output_type": "execute_result"
    }
   ],
   "source": [
    "df.dtypes"
   ]
  },
  {
   "cell_type": "markdown",
   "id": "dfc76067",
   "metadata": {},
   "source": [
    "### Fehlende Datenpunkte im Datensatz"
   ]
  },
  {
   "cell_type": "code",
   "execution_count": 6,
   "id": "0a459b24",
   "metadata": {},
   "outputs": [
    {
     "data": {
      "text/plain": [
       "Alter         0\n",
       "Einkommen     0\n",
       "Preis         0\n",
       "Geschlecht    5\n",
       "Zeit          0\n",
       "KundeNr       0\n",
       "dtype: int64"
      ]
     },
     "execution_count": 6,
     "metadata": {},
     "output_type": "execute_result"
    }
   ],
   "source": [
    "df.isnull().sum()"
   ]
  },
  {
   "cell_type": "code",
   "execution_count": 7,
   "id": "47b0a8b5",
   "metadata": {},
   "outputs": [],
   "source": [
    "# Ersetzen der 5 fehlenden Geschlechtseinträge durch den Modalwert:"
   ]
  },
  {
   "cell_type": "code",
   "execution_count": 8,
   "id": "8e5bfd33",
   "metadata": {},
   "outputs": [],
   "source": [
    "# Finden des Modalwertes:"
   ]
  },
  {
   "cell_type": "code",
   "execution_count": 9,
   "id": "eb4d8d0c",
   "metadata": {},
   "outputs": [],
   "source": [
    "ges_modalwert = df['Geschlecht'].mode()[0]"
   ]
  },
  {
   "cell_type": "code",
   "execution_count": 10,
   "id": "281480c0",
   "metadata": {},
   "outputs": [
    {
     "data": {
      "text/plain": [
       "1.0"
      ]
     },
     "execution_count": 10,
     "metadata": {},
     "output_type": "execute_result"
    }
   ],
   "source": [
    "ges_modalwert"
   ]
  },
  {
   "cell_type": "code",
   "execution_count": 11,
   "id": "c6bf589f",
   "metadata": {},
   "outputs": [],
   "source": [
    "# Ersetzen der 5 fehlenden Geschlechtseinträge mit dem Modalwert 1.0"
   ]
  },
  {
   "cell_type": "code",
   "execution_count": 12,
   "id": "d2af5f2d",
   "metadata": {},
   "outputs": [],
   "source": [
    "df.fillna(value = ges_modalwert, axis = 0, inplace = True)"
   ]
  },
  {
   "cell_type": "code",
   "execution_count": 13,
   "id": "08ccd3d1",
   "metadata": {},
   "outputs": [
    {
     "data": {
      "text/plain": [
       "Alter         0\n",
       "Einkommen     0\n",
       "Preis         0\n",
       "Geschlecht    0\n",
       "Zeit          0\n",
       "KundeNr       0\n",
       "dtype: int64"
      ]
     },
     "execution_count": 13,
     "metadata": {},
     "output_type": "execute_result"
    }
   ],
   "source": [
    "df.isnull().sum()"
   ]
  },
  {
   "cell_type": "code",
   "execution_count": 14,
   "id": "f6d65db4",
   "metadata": {},
   "outputs": [],
   "source": [
    "# hat geklappt, juhuuu!"
   ]
  },
  {
   "cell_type": "markdown",
   "id": "2ac8ef0e",
   "metadata": {},
   "source": [
    "## Boxplots ausgeben"
   ]
  },
  {
   "cell_type": "code",
   "execution_count": 15,
   "id": "c6a280a6",
   "metadata": {},
   "outputs": [
    {
     "data": {
      "image/png": "[encoded data removed]",
      "text/plain": [
       "<Figure size 640x480 with 1 Axes>"
      ]
     },
     "metadata": {},
     "output_type": "display_data"
    }
   ],
   "source": [
    "boxplot_alter = df.boxplot(column = 'Alter')"
   ]
  },
  {
   "cell_type": "code",
   "execution_count": 16,
   "id": "0cfec3d4",
   "metadata": {},
   "outputs": [],
   "source": [
    "boxplot_einkommen = df.boxplot(column = 'Einkommen')"
   ]
  },
  {
   "cell_type": "code",
   "execution_count": 17,
   "id": "09b20c87",
   "metadata": {},
   "outputs": [
    {
     "data": {
      "image/png": "[encoded data removed]",
      "text/plain": [
       "<Figure size 640x480 with 1 Axes>"
      ]
     },
     "metadata": {},
     "output_type": "display_data"
    }
   ],
   "source": [
    "plt.show()"
   ]
  },
  {
   "cell_type": "code",
   "execution_count": 18,
   "id": "b6b5af6c",
   "metadata": {},
   "outputs": [],
   "source": [
    "boxplot_preis = df.boxplot(column = 'Preis')"
   ]
  },
  {
   "cell_type": "code",
   "execution_count": 19,
   "id": "67d85df7",
   "metadata": {},
   "outputs": [
    {
     "data": {
      "image/png": "[encoded data removed]",
      "text/plain": [
       "<Figure size 640x480 with 1 Axes>"
      ]
     },
     "metadata": {},
     "output_type": "display_data"
    }
   ],
   "source": [
    "plt.show()"
   ]
  },
  {
   "cell_type": "markdown",
   "id": "1e028016",
   "metadata": {},
   "source": [
    "## Außreißer identifizieren"
   ]
  },
  {
   "cell_type": "markdown",
   "id": "1028a412",
   "metadata": {},
   "source": [
    "### 1. Alter"
   ]
  },
  {
   "cell_type": "code",
   "execution_count": 20,
   "id": "15a8b30c",
   "metadata": {},
   "outputs": [],
   "source": [
    "# Berechnung von Q1, Q3 und IQR"
   ]
  },
  {
   "cell_type": "code",
   "execution_count": 21,
   "id": "520bde1f",
   "metadata": {},
   "outputs": [],
   "source": [
    "Q1_Alter = df['Alter'].quantile(0.25)"
   ]
  },
  {
   "cell_type": "code",
   "execution_count": 22,
   "id": "a6877d03",
   "metadata": {},
   "outputs": [],
   "source": [
    "Q3_Alter = df['Alter'].quantile(0.75)"
   ]
  },
  {
   "cell_type": "code",
   "execution_count": 23,
   "id": "aa130a50",
   "metadata": {},
   "outputs": [],
   "source": [
    "IQR_Alter = Q3_Alter - Q1_Alter"
   ]
  },
  {
   "cell_type": "code",
   "execution_count": 24,
   "id": "65a4edbd",
   "metadata": {},
   "outputs": [],
   "source": [
    "# Berechnung der Ausreißer-Grenzen"
   ]
  },
  {
   "cell_type": "code",
   "execution_count": 25,
   "id": "e85b892f",
   "metadata": {},
   "outputs": [],
   "source": [
    "untere_grenze_Alter = Q1_Alter - 1.5 * IQR_Alter"
   ]
  },
  {
   "cell_type": "code",
   "execution_count": 26,
   "id": "f1525f26",
   "metadata": {},
   "outputs": [],
   "source": [
    "obere_grenze_Alter = Q3_Alter + 1.5 * IQR_Alter"
   ]
  },
  {
   "cell_type": "code",
   "execution_count": 27,
   "id": "46722561",
   "metadata": {},
   "outputs": [],
   "source": [
    "df['Ausreißer'] = (df['Alter'] < untere_grenze_Alter) | (df['Alter'] > obere_grenze_Alter)"
   ]
  },
  {
   "cell_type": "code",
   "execution_count": 28,
   "id": "11acce54",
   "metadata": {},
   "outputs": [],
   "source": [
    "ausreißer_alter = df.Ausreißer.value_counts()"
   ]
  },
  {
   "cell_type": "code",
   "execution_count": 29,
   "id": "34c9b34e",
   "metadata": {},
   "outputs": [
    {
     "data": {
      "text/plain": [
       "Ausreißer\n",
       "False    1102\n",
       "True        2\n",
       "Name: count, dtype: int64"
      ]
     },
     "execution_count": 29,
     "metadata": {},
     "output_type": "execute_result"
    }
   ],
   "source": [
    "ausreißer_alter"
   ]
  },
  {
   "cell_type": "code",
   "execution_count": 30,
   "id": "8dcafcee",
   "metadata": {},
   "outputs": [
    {
     "data": {
      "text/html": [
       "<div>\n",
       "<style scoped>\n",
       "    .dataframe tbody tr th:only-of-type {\n",
       "        vertical-align: middle;\n",
       "    }\n",
       "\n",
       "    .dataframe tbody tr th {\n",
       "        vertical-align: top;\n",
       "    }\n",
       "\n",
       "    .dataframe thead th {\n",
       "        text-align: right;\n",
       "    }\n",
       "</style>\n",
       "<table border=\"1\" class=\"dataframe\">\n",
       "  <thead>\n",
       "    <tr style=\"text-align: right;\">\n",
       "      <th></th>\n",
       "      <th>Alter</th>\n",
       "      <th>Einkommen</th>\n",
       "      <th>Preis</th>\n",
       "      <th>Geschlecht</th>\n",
       "      <th>Zeit</th>\n",
       "      <th>KundeNr</th>\n",
       "      <th>Ausreißer</th>\n",
       "    </tr>\n",
       "  </thead>\n",
       "  <tbody>\n",
       "    <tr>\n",
       "      <th>142</th>\n",
       "      <td>100</td>\n",
       "      <td>88749.0</td>\n",
       "      <td>119134.23</td>\n",
       "      <td>0.0</td>\n",
       "      <td>64.0</td>\n",
       "      <td>K0494</td>\n",
       "      <td>True</td>\n",
       "    </tr>\n",
       "    <tr>\n",
       "      <th>711</th>\n",
       "      <td>120</td>\n",
       "      <td>61857.0</td>\n",
       "      <td>104214.07</td>\n",
       "      <td>1.0</td>\n",
       "      <td>52.0</td>\n",
       "      <td>K0039</td>\n",
       "      <td>True</td>\n",
       "    </tr>\n",
       "  </tbody>\n",
       "</table>\n",
       "</div>"
      ],
      "text/plain": [
       "     Alter  Einkommen      Preis  Geschlecht  Zeit KundeNr  Ausreißer\n",
       "142    100    88749.0  119134.23         0.0  64.0   K0494       True\n",
       "711    120    61857.0  104214.07         1.0  52.0   K0039       True"
      ]
     },
     "execution_count": 30,
     "metadata": {},
     "output_type": "execute_result"
    }
   ],
   "source": [
    "df.loc[df['Ausreißer'] == True]"
   ]
  },
  {
   "cell_type": "code",
   "execution_count": 31,
   "id": "9e2cea90",
   "metadata": {},
   "outputs": [],
   "source": [
    "# Ersetzen der Ausreißer in der Alters-Spalte durch Medianwert"
   ]
  },
  {
   "cell_type": "code",
   "execution_count": 32,
   "id": "d2c46007",
   "metadata": {},
   "outputs": [],
   "source": [
    "alter_median = df['Alter'].median()"
   ]
  },
  {
   "cell_type": "code",
   "execution_count": 33,
   "id": "2974d131",
   "metadata": {},
   "outputs": [
    {
     "data": {
      "text/plain": [
       "51.0"
      ]
     },
     "execution_count": 33,
     "metadata": {},
     "output_type": "execute_result"
    }
   ],
   "source": [
    "alter_median"
   ]
  },
  {
   "cell_type": "code",
   "execution_count": 34,
   "id": "18e750cf",
   "metadata": {},
   "outputs": [
    {
     "data": {
      "text/html": [
       "<div>\n",
       "<style scoped>\n",
       "    .dataframe tbody tr th:only-of-type {\n",
       "        vertical-align: middle;\n",
       "    }\n",
       "\n",
       "    .dataframe tbody tr th {\n",
       "        vertical-align: top;\n",
       "    }\n",
       "\n",
       "    .dataframe thead th {\n",
       "        text-align: right;\n",
       "    }\n",
       "</style>\n",
       "<table border=\"1\" class=\"dataframe\">\n",
       "  <thead>\n",
       "    <tr style=\"text-align: right;\">\n",
       "      <th></th>\n",
       "      <th>Alter</th>\n",
       "      <th>Einkommen</th>\n",
       "      <th>Preis</th>\n",
       "      <th>Geschlecht</th>\n",
       "      <th>Zeit</th>\n",
       "      <th>KundeNr</th>\n",
       "      <th>Ausreißer</th>\n",
       "    </tr>\n",
       "  </thead>\n",
       "  <tbody>\n",
       "    <tr>\n",
       "      <th>0</th>\n",
       "      <td>64</td>\n",
       "      <td>66894.0</td>\n",
       "      <td>88160.31</td>\n",
       "      <td>1.0</td>\n",
       "      <td>43.0</td>\n",
       "      <td>K0310</td>\n",
       "      <td>False</td>\n",
       "    </tr>\n",
       "    <tr>\n",
       "      <th>1</th>\n",
       "      <td>54</td>\n",
       "      <td>77644.0</td>\n",
       "      <td>103145.70</td>\n",
       "      <td>1.0</td>\n",
       "      <td>40.0</td>\n",
       "      <td>K1042</td>\n",
       "      <td>False</td>\n",
       "    </tr>\n",
       "    <tr>\n",
       "      <th>2</th>\n",
       "      <td>55</td>\n",
       "      <td>44341.0</td>\n",
       "      <td>80565.16</td>\n",
       "      <td>0.0</td>\n",
       "      <td>37.0</td>\n",
       "      <td>K0382</td>\n",
       "      <td>False</td>\n",
       "    </tr>\n",
       "    <tr>\n",
       "      <th>3</th>\n",
       "      <td>49</td>\n",
       "      <td>67271.0</td>\n",
       "      <td>83949.89</td>\n",
       "      <td>0.0</td>\n",
       "      <td>42.0</td>\n",
       "      <td>K0498</td>\n",
       "      <td>False</td>\n",
       "    </tr>\n",
       "    <tr>\n",
       "      <th>4</th>\n",
       "      <td>46</td>\n",
       "      <td>49832.0</td>\n",
       "      <td>93781.58</td>\n",
       "      <td>0.0</td>\n",
       "      <td>41.0</td>\n",
       "      <td>K0552</td>\n",
       "      <td>False</td>\n",
       "    </tr>\n",
       "    <tr>\n",
       "      <th>...</th>\n",
       "      <td>...</td>\n",
       "      <td>...</td>\n",
       "      <td>...</td>\n",
       "      <td>...</td>\n",
       "      <td>...</td>\n",
       "      <td>...</td>\n",
       "      <td>...</td>\n",
       "    </tr>\n",
       "    <tr>\n",
       "      <th>1099</th>\n",
       "      <td>70</td>\n",
       "      <td>69581.0</td>\n",
       "      <td>103751.58</td>\n",
       "      <td>1.0</td>\n",
       "      <td>51.0</td>\n",
       "      <td>K0467</td>\n",
       "      <td>False</td>\n",
       "    </tr>\n",
       "    <tr>\n",
       "      <th>1100</th>\n",
       "      <td>38</td>\n",
       "      <td>48301.0</td>\n",
       "      <td>64230.98</td>\n",
       "      <td>1.0</td>\n",
       "      <td>33.0</td>\n",
       "      <td>K0122</td>\n",
       "      <td>False</td>\n",
       "    </tr>\n",
       "    <tr>\n",
       "      <th>1101</th>\n",
       "      <td>67</td>\n",
       "      <td>63547.0</td>\n",
       "      <td>103123.57</td>\n",
       "      <td>1.0</td>\n",
       "      <td>41.0</td>\n",
       "      <td>K1045</td>\n",
       "      <td>False</td>\n",
       "    </tr>\n",
       "    <tr>\n",
       "      <th>1102</th>\n",
       "      <td>37</td>\n",
       "      <td>32686.0</td>\n",
       "      <td>49215.87</td>\n",
       "      <td>1.0</td>\n",
       "      <td>36.0</td>\n",
       "      <td>K1096</td>\n",
       "      <td>False</td>\n",
       "    </tr>\n",
       "    <tr>\n",
       "      <th>1103</th>\n",
       "      <td>55</td>\n",
       "      <td>71240.0</td>\n",
       "      <td>106132.59</td>\n",
       "      <td>1.0</td>\n",
       "      <td>49.0</td>\n",
       "      <td>K0861</td>\n",
       "      <td>False</td>\n",
       "    </tr>\n",
       "  </tbody>\n",
       "</table>\n",
       "<p>1104 rows × 7 columns</p>\n",
       "</div>"
      ],
      "text/plain": [
       "      Alter  Einkommen      Preis  Geschlecht  Zeit KundeNr  Ausreißer\n",
       "0        64    66894.0   88160.31         1.0  43.0   K0310      False\n",
       "1        54    77644.0  103145.70         1.0  40.0   K1042      False\n",
       "2        55    44341.0   80565.16         0.0  37.0   K0382      False\n",
       "3        49    67271.0   83949.89         0.0  42.0   K0498      False\n",
       "4        46    49832.0   93781.58         0.0  41.0   K0552      False\n",
       "...     ...        ...        ...         ...   ...     ...        ...\n",
       "1099     70    69581.0  103751.58         1.0  51.0   K0467      False\n",
       "1100     38    48301.0   64230.98         1.0  33.0   K0122      False\n",
       "1101     67    63547.0  103123.57         1.0  41.0   K1045      False\n",
       "1102     37    32686.0   49215.87         1.0  36.0   K1096      False\n",
       "1103     55    71240.0  106132.59         1.0  49.0   K0861      False\n",
       "\n",
       "[1104 rows x 7 columns]"
      ]
     },
     "execution_count": 34,
     "metadata": {},
     "output_type": "execute_result"
    }
   ],
   "source": [
    "df.replace([120, 100], alter_median, inplace=True)\n",
    "df"
   ]
  },
  {
   "cell_type": "code",
   "execution_count": 35,
   "id": "39631cfb",
   "metadata": {},
   "outputs": [],
   "source": [
    "df['Ausreißer'] = (df['Alter'] < untere_grenze_Alter) | (df['Alter'] > obere_grenze_Alter)"
   ]
  },
  {
   "cell_type": "code",
   "execution_count": 36,
   "id": "d89a3982",
   "metadata": {},
   "outputs": [],
   "source": [
    "ausreißer_alter = df.Ausreißer.value_counts()"
   ]
  },
  {
   "cell_type": "code",
   "execution_count": 37,
   "id": "b704e385",
   "metadata": {},
   "outputs": [
    {
     "data": {
      "text/plain": [
       "Ausreißer\n",
       "False    1104\n",
       "Name: count, dtype: int64"
      ]
     },
     "execution_count": 37,
     "metadata": {},
     "output_type": "execute_result"
    }
   ],
   "source": [
    "ausreißer_alter"
   ]
  },
  {
   "cell_type": "code",
   "execution_count": 38,
   "id": "7ab25831",
   "metadata": {},
   "outputs": [],
   "source": [
    "# keine Ausreißer in der Alters-Spalte mehr vorhanden"
   ]
  },
  {
   "cell_type": "markdown",
   "id": "a717ba2c",
   "metadata": {},
   "source": [
    "### 2. Einkommen"
   ]
  },
  {
   "cell_type": "code",
   "execution_count": 39,
   "id": "f71e5633",
   "metadata": {},
   "outputs": [],
   "source": [
    "# Berechnung von Q1, Q3 und IQR der Einkommens-Spalte"
   ]
  },
  {
   "cell_type": "code",
   "execution_count": 40,
   "id": "979ee9c5",
   "metadata": {},
   "outputs": [
    {
     "data": {
      "text/plain": [
       "Ausreißer\n",
       "False    1100\n",
       "True        4\n",
       "Name: count, dtype: int64"
      ]
     },
     "execution_count": 40,
     "metadata": {},
     "output_type": "execute_result"
    }
   ],
   "source": [
    "Q1_einkommen = df['Einkommen'].quantile(0.25)\n",
    "Q3_einkommen = df['Einkommen'].quantile(0.75)\n",
    "IQR_einkommen = Q3_einkommen - Q1_einkommen\n",
    "IQR_einkommen\n",
    "untere_grenze_einkommen = Q1_einkommen - 1.5 * IQR_einkommen\n",
    "obere_grenze_einkommen = Q3_einkommen + 1.5 * IQR_einkommen\n",
    "df['Ausreißer'] = (df['Einkommen'] < untere_grenze_einkommen) | (df['Einkommen'] > obere_grenze_einkommen)\n",
    "ausreißer_einkommen = df.Ausreißer.value_counts()\n",
    "ausreißer_einkommen"
   ]
  },
  {
   "cell_type": "code",
   "execution_count": 41,
   "id": "8ebfb810",
   "metadata": {},
   "outputs": [
    {
     "data": {
      "text/html": [
       "<div>\n",
       "<style scoped>\n",
       "    .dataframe tbody tr th:only-of-type {\n",
       "        vertical-align: middle;\n",
       "    }\n",
       "\n",
       "    .dataframe tbody tr th {\n",
       "        vertical-align: top;\n",
       "    }\n",
       "\n",
       "    .dataframe thead th {\n",
       "        text-align: right;\n",
       "    }\n",
       "</style>\n",
       "<table border=\"1\" class=\"dataframe\">\n",
       "  <thead>\n",
       "    <tr style=\"text-align: right;\">\n",
       "      <th></th>\n",
       "      <th>Alter</th>\n",
       "      <th>Einkommen</th>\n",
       "      <th>Preis</th>\n",
       "      <th>Geschlecht</th>\n",
       "      <th>Zeit</th>\n",
       "      <th>KundeNr</th>\n",
       "      <th>Ausreißer</th>\n",
       "    </tr>\n",
       "  </thead>\n",
       "  <tbody>\n",
       "    <tr>\n",
       "      <th>408</th>\n",
       "      <td>68</td>\n",
       "      <td>1.000000e+09</td>\n",
       "      <td>87209.72</td>\n",
       "      <td>0.0</td>\n",
       "      <td>52.0</td>\n",
       "      <td>K0701</td>\n",
       "      <td>True</td>\n",
       "    </tr>\n",
       "    <tr>\n",
       "      <th>834</th>\n",
       "      <td>68</td>\n",
       "      <td>1.076890e+05</td>\n",
       "      <td>165482.31</td>\n",
       "      <td>1.0</td>\n",
       "      <td>60.0</td>\n",
       "      <td>K0415</td>\n",
       "      <td>True</td>\n",
       "    </tr>\n",
       "    <tr>\n",
       "      <th>966</th>\n",
       "      <td>69</td>\n",
       "      <td>0.000000e+00</td>\n",
       "      <td>125140.05</td>\n",
       "      <td>1.0</td>\n",
       "      <td>65.0</td>\n",
       "      <td>K1021</td>\n",
       "      <td>True</td>\n",
       "    </tr>\n",
       "    <tr>\n",
       "      <th>1082</th>\n",
       "      <td>59</td>\n",
       "      <td>-6.284037e+04</td>\n",
       "      <td>92837.59</td>\n",
       "      <td>0.0</td>\n",
       "      <td>46.0</td>\n",
       "      <td>K1083</td>\n",
       "      <td>True</td>\n",
       "    </tr>\n",
       "  </tbody>\n",
       "</table>\n",
       "</div>"
      ],
      "text/plain": [
       "      Alter     Einkommen      Preis  Geschlecht  Zeit KundeNr  Ausreißer\n",
       "408      68  1.000000e+09   87209.72         0.0  52.0   K0701       True\n",
       "834      68  1.076890e+05  165482.31         1.0  60.0   K0415       True\n",
       "966      69  0.000000e+00  125140.05         1.0  65.0   K1021       True\n",
       "1082     59 -6.284037e+04   92837.59         0.0  46.0   K1083       True"
      ]
     },
     "execution_count": 41,
     "metadata": {},
     "output_type": "execute_result"
    }
   ],
   "source": [
    "df.loc[df['Ausreißer'] == True]\n"
   ]
  },
  {
   "cell_type": "code",
   "execution_count": 42,
   "id": "f274978c",
   "metadata": {},
   "outputs": [
    {
     "data": {
      "text/html": [
       "<div>\n",
       "<style scoped>\n",
       "    .dataframe tbody tr th:only-of-type {\n",
       "        vertical-align: middle;\n",
       "    }\n",
       "\n",
       "    .dataframe tbody tr th {\n",
       "        vertical-align: top;\n",
       "    }\n",
       "\n",
       "    .dataframe thead th {\n",
       "        text-align: right;\n",
       "    }\n",
       "</style>\n",
       "<table border=\"1\" class=\"dataframe\">\n",
       "  <thead>\n",
       "    <tr style=\"text-align: right;\">\n",
       "      <th></th>\n",
       "      <th>Alter</th>\n",
       "      <th>Einkommen</th>\n",
       "      <th>Preis</th>\n",
       "      <th>Geschlecht</th>\n",
       "      <th>Zeit</th>\n",
       "      <th>KundeNr</th>\n",
       "      <th>Ausreißer</th>\n",
       "    </tr>\n",
       "  </thead>\n",
       "  <tbody>\n",
       "    <tr>\n",
       "      <th>408</th>\n",
       "      <td>68</td>\n",
       "      <td>59013.0</td>\n",
       "      <td>87209.72</td>\n",
       "      <td>0.0</td>\n",
       "      <td>52.0</td>\n",
       "      <td>K0701</td>\n",
       "      <td>True</td>\n",
       "    </tr>\n",
       "    <tr>\n",
       "      <th>834</th>\n",
       "      <td>68</td>\n",
       "      <td>59013.0</td>\n",
       "      <td>165482.31</td>\n",
       "      <td>1.0</td>\n",
       "      <td>60.0</td>\n",
       "      <td>K0415</td>\n",
       "      <td>True</td>\n",
       "    </tr>\n",
       "    <tr>\n",
       "      <th>966</th>\n",
       "      <td>69</td>\n",
       "      <td>59013.0</td>\n",
       "      <td>125140.05</td>\n",
       "      <td>1.0</td>\n",
       "      <td>65.0</td>\n",
       "      <td>K1021</td>\n",
       "      <td>True</td>\n",
       "    </tr>\n",
       "    <tr>\n",
       "      <th>1082</th>\n",
       "      <td>59</td>\n",
       "      <td>59013.0</td>\n",
       "      <td>92837.59</td>\n",
       "      <td>0.0</td>\n",
       "      <td>46.0</td>\n",
       "      <td>K1083</td>\n",
       "      <td>True</td>\n",
       "    </tr>\n",
       "  </tbody>\n",
       "</table>\n",
       "</div>"
      ],
      "text/plain": [
       "      Alter  Einkommen      Preis  Geschlecht  Zeit KundeNr  Ausreißer\n",
       "408      68    59013.0   87209.72         0.0  52.0   K0701       True\n",
       "834      68    59013.0  165482.31         1.0  60.0   K0415       True\n",
       "966      69    59013.0  125140.05         1.0  65.0   K1021       True\n",
       "1082     59    59013.0   92837.59         0.0  46.0   K1083       True"
      ]
     },
     "execution_count": 42,
     "metadata": {},
     "output_type": "execute_result"
    }
   ],
   "source": [
    "# Ersetzen der Ausreißer in der Einkommens-Spalte durch Medianwert\n",
    "einkommen_median = df['Einkommen'].median()\n",
    "df.replace({'Einkommen': [1.000000e+09, 1.076890e+05, 0.000000e+00, -62840.374523]}, einkommen_median, inplace=True)\n",
    "df.loc[df['Ausreißer'] == True]"
   ]
  },
  {
   "cell_type": "markdown",
   "id": "9811adce",
   "metadata": {},
   "source": [
    "### 3. Zeit"
   ]
  },
  {
   "cell_type": "code",
   "execution_count": 43,
   "id": "163837fa",
   "metadata": {},
   "outputs": [],
   "source": [
    "# Berechnung von Q1, Q3 und IQR der Zeit-Spalte"
   ]
  },
  {
   "cell_type": "code",
   "execution_count": 44,
   "id": "18f08f32",
   "metadata": {},
   "outputs": [
    {
     "data": {
      "text/plain": [
       "Ausreißer\n",
       "False    1098\n",
       "True        6\n",
       "Name: count, dtype: int64"
      ]
     },
     "execution_count": 44,
     "metadata": {},
     "output_type": "execute_result"
    }
   ],
   "source": [
    "Q1_zeit = df['Zeit'].quantile(0.25)\n",
    "Q3_zeit = df['Zeit'].quantile(0.75)\n",
    "IQR_zeit = Q3_zeit - Q1_zeit\n",
    "IQR_zeit\n",
    "untere_grenze_zeit = Q1_zeit - 1.5 * IQR_zeit\n",
    "obere_grenze_zeit = Q3_zeit + 1.5 * IQR_zeit\n",
    "df['Ausreißer'] = (df['Zeit'] < untere_grenze_zeit) | (df['Zeit'] > obere_grenze_zeit)\n",
    "ausreißer_zeit = df.Ausreißer.value_counts()\n",
    "ausreißer_zeit"
   ]
  },
  {
   "cell_type": "code",
   "execution_count": 45,
   "id": "2e63e8d9",
   "metadata": {},
   "outputs": [
    {
     "data": {
      "text/html": [
       "<div>\n",
       "<style scoped>\n",
       "    .dataframe tbody tr th:only-of-type {\n",
       "        vertical-align: middle;\n",
       "    }\n",
       "\n",
       "    .dataframe tbody tr th {\n",
       "        vertical-align: top;\n",
       "    }\n",
       "\n",
       "    .dataframe thead th {\n",
       "        text-align: right;\n",
       "    }\n",
       "</style>\n",
       "<table border=\"1\" class=\"dataframe\">\n",
       "  <thead>\n",
       "    <tr style=\"text-align: right;\">\n",
       "      <th></th>\n",
       "      <th>Alter</th>\n",
       "      <th>Einkommen</th>\n",
       "      <th>Preis</th>\n",
       "      <th>Geschlecht</th>\n",
       "      <th>Zeit</th>\n",
       "      <th>KundeNr</th>\n",
       "      <th>Ausreißer</th>\n",
       "    </tr>\n",
       "  </thead>\n",
       "  <tbody>\n",
       "    <tr>\n",
       "      <th>218</th>\n",
       "      <td>33</td>\n",
       "      <td>38675.0</td>\n",
       "      <td>56493.40</td>\n",
       "      <td>1.0</td>\n",
       "      <td>13.0</td>\n",
       "      <td>K0983</td>\n",
       "      <td>True</td>\n",
       "    </tr>\n",
       "    <tr>\n",
       "      <th>313</th>\n",
       "      <td>62</td>\n",
       "      <td>96569.0</td>\n",
       "      <td>140745.65</td>\n",
       "      <td>0.0</td>\n",
       "      <td>80.0</td>\n",
       "      <td>K0249</td>\n",
       "      <td>True</td>\n",
       "    </tr>\n",
       "    <tr>\n",
       "      <th>327</th>\n",
       "      <td>34</td>\n",
       "      <td>24811.0</td>\n",
       "      <td>57541.73</td>\n",
       "      <td>1.0</td>\n",
       "      <td>12.0</td>\n",
       "      <td>K0395</td>\n",
       "      <td>True</td>\n",
       "    </tr>\n",
       "    <tr>\n",
       "      <th>542</th>\n",
       "      <td>67</td>\n",
       "      <td>89170.0</td>\n",
       "      <td>123408.48</td>\n",
       "      <td>1.0</td>\n",
       "      <td>76.0</td>\n",
       "      <td>K1093</td>\n",
       "      <td>True</td>\n",
       "    </tr>\n",
       "    <tr>\n",
       "      <th>553</th>\n",
       "      <td>38</td>\n",
       "      <td>33666.0</td>\n",
       "      <td>50494.07</td>\n",
       "      <td>1.0</td>\n",
       "      <td>13.0</td>\n",
       "      <td>K0384</td>\n",
       "      <td>True</td>\n",
       "    </tr>\n",
       "    <tr>\n",
       "      <th>805</th>\n",
       "      <td>64</td>\n",
       "      <td>91409.0</td>\n",
       "      <td>140161.07</td>\n",
       "      <td>1.0</td>\n",
       "      <td>76.0</td>\n",
       "      <td>K0897</td>\n",
       "      <td>True</td>\n",
       "    </tr>\n",
       "  </tbody>\n",
       "</table>\n",
       "</div>"
      ],
      "text/plain": [
       "     Alter  Einkommen      Preis  Geschlecht  Zeit KundeNr  Ausreißer\n",
       "218     33    38675.0   56493.40         1.0  13.0   K0983       True\n",
       "313     62    96569.0  140745.65         0.0  80.0   K0249       True\n",
       "327     34    24811.0   57541.73         1.0  12.0   K0395       True\n",
       "542     67    89170.0  123408.48         1.0  76.0   K1093       True\n",
       "553     38    33666.0   50494.07         1.0  13.0   K0384       True\n",
       "805     64    91409.0  140161.07         1.0  76.0   K0897       True"
      ]
     },
     "execution_count": 45,
     "metadata": {},
     "output_type": "execute_result"
    }
   ],
   "source": [
    "df.loc[df['Ausreißer'] == True]"
   ]
  },
  {
   "cell_type": "code",
   "execution_count": 46,
   "id": "5857396c",
   "metadata": {},
   "outputs": [],
   "source": [
    "# Ausreißer-Zeiten scheinen nicht absurd hoch oder niedrig, daher bleiben sie im Datensatz unbereinigt stehen"
   ]
  },
  {
   "cell_type": "markdown",
   "id": "1e82ef69",
   "metadata": {},
   "source": [
    "## Geodaten"
   ]
  },
  {
   "cell_type": "code",
   "execution_count": 48,
   "id": "241cd28e",
   "metadata": {},
   "outputs": [],
   "source": [
    "file = \"geo.txt\"\n",
    "df_geo = pd.read_csv(\"geo.txt\", sep = \"\\t\")"
   ]
  },
  {
   "cell_type": "code",
   "execution_count": 50,
   "id": "e34e618c",
   "metadata": {},
   "outputs": [
    {
     "data": {
      "text/html": [
       "<div>\n",
       "<style scoped>\n",
       "    .dataframe tbody tr th:only-of-type {\n",
       "        vertical-align: middle;\n",
       "    }\n",
       "\n",
       "    .dataframe tbody tr th {\n",
       "        vertical-align: top;\n",
       "    }\n",
       "\n",
       "    .dataframe thead th {\n",
       "        text-align: right;\n",
       "    }\n",
       "</style>\n",
       "<table border=\"1\" class=\"dataframe\">\n",
       "  <thead>\n",
       "    <tr style=\"text-align: right;\">\n",
       "      <th></th>\n",
       "      <th>KundeNr</th>\n",
       "      <th>Niederlassung</th>\n",
       "    </tr>\n",
       "  </thead>\n",
       "  <tbody>\n",
       "    <tr>\n",
       "      <th>0</th>\n",
       "      <td>K0001</td>\n",
       "      <td>Sachsen</td>\n",
       "    </tr>\n",
       "    <tr>\n",
       "      <th>1</th>\n",
       "      <td>K0002</td>\n",
       "      <td>NRW</td>\n",
       "    </tr>\n",
       "    <tr>\n",
       "      <th>2</th>\n",
       "      <td>K0003</td>\n",
       "      <td>Hessen</td>\n",
       "    </tr>\n",
       "    <tr>\n",
       "      <th>3</th>\n",
       "      <td>K0004</td>\n",
       "      <td>Bayern</td>\n",
       "    </tr>\n",
       "    <tr>\n",
       "      <th>4</th>\n",
       "      <td>K0005</td>\n",
       "      <td>Bayern</td>\n",
       "    </tr>\n",
       "  </tbody>\n",
       "</table>\n",
       "</div>"
      ],
      "text/plain": [
       "  KundeNr Niederlassung\n",
       "0   K0001       Sachsen\n",
       "1   K0002           NRW\n",
       "2   K0003        Hessen\n",
       "3   K0004        Bayern\n",
       "4   K0005        Bayern"
      ]
     },
     "execution_count": 50,
     "metadata": {},
     "output_type": "execute_result"
    }
   ],
   "source": [
    "df_geo.head()"
   ]
  },
  {
   "cell_type": "code",
   "execution_count": 55,
   "id": "76fab060",
   "metadata": {},
   "outputs": [
    {
     "data": {
      "text/plain": [
       "array(['Sachsen', 'NRW', 'Hessen', 'Bayern', 'Baden-Württemberg',\n",
       "       'Nordrhein-Westfalen', 'Berlin', 'Niedersachsen', 'Brandenburg',\n",
       "       'Thüringen', 'Hamburg', 'Düsseldorf', 'Berlin-Charlottenburg',\n",
       "       'Berlin-Mitte', 'BERLIN'], dtype=object)"
      ]
     },
     "execution_count": 55,
     "metadata": {},
     "output_type": "execute_result"
    }
   ],
   "source": [
    "# Alle unterschiedlichen Einträge in 'Niederlassung' anzeigen\n",
    "einzigartige_werte_niederlassung = df_geo['Niederlassung'].unique()\n",
    "einzigartige_werte_niederlassung"
   ]
  },
  {
   "cell_type": "code",
   "execution_count": 56,
   "id": "348edf6c",
   "metadata": {},
   "outputs": [
    {
     "data": {
      "text/html": [
       "<div>\n",
       "<style scoped>\n",
       "    .dataframe tbody tr th:only-of-type {\n",
       "        vertical-align: middle;\n",
       "    }\n",
       "\n",
       "    .dataframe tbody tr th {\n",
       "        vertical-align: top;\n",
       "    }\n",
       "\n",
       "    .dataframe thead th {\n",
       "        text-align: right;\n",
       "    }\n",
       "</style>\n",
       "<table border=\"1\" class=\"dataframe\">\n",
       "  <thead>\n",
       "    <tr style=\"text-align: right;\">\n",
       "      <th></th>\n",
       "      <th>KundeNr</th>\n",
       "      <th>Niederlassung</th>\n",
       "    </tr>\n",
       "  </thead>\n",
       "  <tbody>\n",
       "    <tr>\n",
       "      <th>0</th>\n",
       "      <td>K0001</td>\n",
       "      <td>Sachsen</td>\n",
       "    </tr>\n",
       "    <tr>\n",
       "      <th>1</th>\n",
       "      <td>K0002</td>\n",
       "      <td>Nordrhein-Westfalen</td>\n",
       "    </tr>\n",
       "    <tr>\n",
       "      <th>2</th>\n",
       "      <td>K0003</td>\n",
       "      <td>Hessen</td>\n",
       "    </tr>\n",
       "    <tr>\n",
       "      <th>3</th>\n",
       "      <td>K0004</td>\n",
       "      <td>Bayern</td>\n",
       "    </tr>\n",
       "    <tr>\n",
       "      <th>4</th>\n",
       "      <td>K0005</td>\n",
       "      <td>Bayern</td>\n",
       "    </tr>\n",
       "    <tr>\n",
       "      <th>...</th>\n",
       "      <td>...</td>\n",
       "      <td>...</td>\n",
       "    </tr>\n",
       "    <tr>\n",
       "      <th>1990</th>\n",
       "      <td>K1991</td>\n",
       "      <td>Hessen</td>\n",
       "    </tr>\n",
       "    <tr>\n",
       "      <th>1991</th>\n",
       "      <td>K1992</td>\n",
       "      <td>Baden-Württemberg</td>\n",
       "    </tr>\n",
       "    <tr>\n",
       "      <th>1992</th>\n",
       "      <td>K1993</td>\n",
       "      <td>Nordrhein-Westfalen</td>\n",
       "    </tr>\n",
       "    <tr>\n",
       "      <th>1993</th>\n",
       "      <td>K1994</td>\n",
       "      <td>Berlin</td>\n",
       "    </tr>\n",
       "    <tr>\n",
       "      <th>1994</th>\n",
       "      <td>K1995</td>\n",
       "      <td>Berlin-Charlottenburg</td>\n",
       "    </tr>\n",
       "  </tbody>\n",
       "</table>\n",
       "<p>1995 rows × 2 columns</p>\n",
       "</div>"
      ],
      "text/plain": [
       "     KundeNr          Niederlassung\n",
       "0      K0001                Sachsen\n",
       "1      K0002    Nordrhein-Westfalen\n",
       "2      K0003                 Hessen\n",
       "3      K0004                 Bayern\n",
       "4      K0005                 Bayern\n",
       "...      ...                    ...\n",
       "1990   K1991                 Hessen\n",
       "1991   K1992      Baden-Württemberg\n",
       "1992   K1993    Nordrhein-Westfalen\n",
       "1993   K1994                 Berlin\n",
       "1994   K1995  Berlin-Charlottenburg\n",
       "\n",
       "[1995 rows x 2 columns]"
      ]
     },
     "execution_count": 56,
     "metadata": {},
     "output_type": "execute_result"
    }
   ],
   "source": [
    "# \"NRW\" durch \"Nordrhein-Westfalen\" ersetzen\n",
    "df_geo.replace(\"NRW\", \"Nordrhein-Westfalen\", inplace=True)\n",
    "df_geo"
   ]
  },
  {
   "cell_type": "code",
   "execution_count": 57,
   "id": "fa3bd6ae",
   "metadata": {},
   "outputs": [
    {
     "data": {
      "text/html": [
       "<div>\n",
       "<style scoped>\n",
       "    .dataframe tbody tr th:only-of-type {\n",
       "        vertical-align: middle;\n",
       "    }\n",
       "\n",
       "    .dataframe tbody tr th {\n",
       "        vertical-align: top;\n",
       "    }\n",
       "\n",
       "    .dataframe thead th {\n",
       "        text-align: right;\n",
       "    }\n",
       "</style>\n",
       "<table border=\"1\" class=\"dataframe\">\n",
       "  <thead>\n",
       "    <tr style=\"text-align: right;\">\n",
       "      <th></th>\n",
       "      <th>KundeNr</th>\n",
       "      <th>Niederlassung</th>\n",
       "    </tr>\n",
       "  </thead>\n",
       "  <tbody>\n",
       "    <tr>\n",
       "      <th>0</th>\n",
       "      <td>K0001</td>\n",
       "      <td>Sachsen</td>\n",
       "    </tr>\n",
       "    <tr>\n",
       "      <th>1</th>\n",
       "      <td>K0002</td>\n",
       "      <td>Nordrhein-Westfalen</td>\n",
       "    </tr>\n",
       "    <tr>\n",
       "      <th>2</th>\n",
       "      <td>K0003</td>\n",
       "      <td>Hessen</td>\n",
       "    </tr>\n",
       "    <tr>\n",
       "      <th>3</th>\n",
       "      <td>K0004</td>\n",
       "      <td>Bayern</td>\n",
       "    </tr>\n",
       "    <tr>\n",
       "      <th>4</th>\n",
       "      <td>K0005</td>\n",
       "      <td>Bayern</td>\n",
       "    </tr>\n",
       "    <tr>\n",
       "      <th>...</th>\n",
       "      <td>...</td>\n",
       "      <td>...</td>\n",
       "    </tr>\n",
       "    <tr>\n",
       "      <th>1990</th>\n",
       "      <td>K1991</td>\n",
       "      <td>Hessen</td>\n",
       "    </tr>\n",
       "    <tr>\n",
       "      <th>1991</th>\n",
       "      <td>K1992</td>\n",
       "      <td>Baden-Württemberg</td>\n",
       "    </tr>\n",
       "    <tr>\n",
       "      <th>1992</th>\n",
       "      <td>K1993</td>\n",
       "      <td>Nordrhein-Westfalen</td>\n",
       "    </tr>\n",
       "    <tr>\n",
       "      <th>1993</th>\n",
       "      <td>K1994</td>\n",
       "      <td>Berlin</td>\n",
       "    </tr>\n",
       "    <tr>\n",
       "      <th>1994</th>\n",
       "      <td>K1995</td>\n",
       "      <td>Berlin</td>\n",
       "    </tr>\n",
       "  </tbody>\n",
       "</table>\n",
       "<p>1995 rows × 2 columns</p>\n",
       "</div>"
      ],
      "text/plain": [
       "     KundeNr        Niederlassung\n",
       "0      K0001              Sachsen\n",
       "1      K0002  Nordrhein-Westfalen\n",
       "2      K0003               Hessen\n",
       "3      K0004               Bayern\n",
       "4      K0005               Bayern\n",
       "...      ...                  ...\n",
       "1990   K1991               Hessen\n",
       "1991   K1992    Baden-Württemberg\n",
       "1992   K1993  Nordrhein-Westfalen\n",
       "1993   K1994               Berlin\n",
       "1994   K1995               Berlin\n",
       "\n",
       "[1995 rows x 2 columns]"
      ]
     },
     "execution_count": 57,
     "metadata": {},
     "output_type": "execute_result"
    }
   ],
   "source": [
    "# \"Berlin\" vereinheitlichen\n",
    "df_geo.replace([\"Berlin-Charlottenburg\", \"Berlin-Mitte\", \"BERLIN\"], \"Berlin\", inplace=True)\n",
    "df_geo"
   ]
  },
  {
   "cell_type": "code",
   "execution_count": 58,
   "id": "84471ab4",
   "metadata": {},
   "outputs": [
    {
     "data": {
      "text/plain": [
       "array(['Sachsen', 'Nordrhein-Westfalen', 'Hessen', 'Bayern',\n",
       "       'Baden-Württemberg', 'Berlin', 'Niedersachsen', 'Brandenburg',\n",
       "       'Thüringen', 'Hamburg', 'Düsseldorf'], dtype=object)"
      ]
     },
     "execution_count": 58,
     "metadata": {},
     "output_type": "execute_result"
    }
   ],
   "source": [
    "# Überprüfung\n",
    "einzigartige_werte_niederlassung = df_geo['Niederlassung'].unique()\n",
    "einzigartige_werte_niederlassung"
   ]
  },
  {
   "cell_type": "code",
   "execution_count": 59,
   "id": "6803e15d",
   "metadata": {},
   "outputs": [
    {
     "data": {
      "text/plain": [
       "KundeNr          0\n",
       "Niederlassung    0\n",
       "dtype: int64"
      ]
     },
     "execution_count": 59,
     "metadata": {},
     "output_type": "execute_result"
    }
   ],
   "source": [
    "# Überprüfung, ob fehlende Datenpunkte vorhanden sind\n",
    "df_geo.isnull().sum()"
   ]
  },
  {
   "cell_type": "code",
   "execution_count": null,
   "id": "33fc0145",
   "metadata": {},
   "outputs": [],
   "source": []
  }
 ],
 "metadata": {
  "kernelspec": {
   "display_name": "Python 3 (ipykernel)",
   "language": "python",
   "name": "python3"
  },
  "language_info": {
   "codemirror_mode": {
    "name": "ipython",
    "version": 3
   },
   "file_extension": ".py",
   "mimetype": "text/x-python",
   "name": "python",
   "nbconvert_exporter": "python",
   "pygments_lexer": "ipython3",
   "version": "3.11.5"
  }
 },
 "nbformat": 4,
 "nbformat_minor": 5
}
