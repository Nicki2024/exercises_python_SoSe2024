{
 "cells": [
  {
   "cell_type": "code",
   "execution_count": 1,
   "id": "1f0749c3",
   "metadata": {},
   "outputs": [],
   "source": [
    "import pandas as pd\n",
    "import numpy as np"
   ]
  },
  {
   "cell_type": "code",
   "execution_count": 3,
   "id": "85e82fed",
   "metadata": {},
   "outputs": [
    {
     "data": {
      "text/plain": [
       "Date\n",
       "2023   -0.028077\n",
       "2024   -0.324608\n",
       "Name: ln_Returns, dtype: float64"
      ]
     },
     "execution_count": 3,
     "metadata": {},
     "output_type": "execute_result"
    }
   ],
   "source": [
    "file = 'data/TSLA.csv'\n",
    "df = pd.read_csv(file, decimal = \".\")\n",
    "df = df[['Date', 'Close']]\n",
    "df['Date'] = pd.to_datetime(df['Date'], format = '%Y-%m-%d') \n",
    "\n",
    "# Jetzt Filtern nach 2 Jahres Bedingungen\n",
    "df = df[(df['Date'].dt.year >= 2011) & (df['Date'].dt.year >= 2011)]\n",
    "df['ln_Returns'] = (np.log(df['Close']) - np.log(df['Close'].shift(1)))*100\n",
    "df_avg = df['ln_Returns'].groupby(df['Date'].dt.year).mean()\n",
    "df_avg"
   ]
  },
  {
   "cell_type": "code",
   "execution_count": 5,
   "id": "0b5af827",
   "metadata": {},
   "outputs": [
    {
     "data": {
      "text/plain": [
       "{2023: -0.028, 2024: -0.325}"
      ]
     },
     "execution_count": 5,
     "metadata": {},
     "output_type": "execute_result"
    }
   ],
   "source": [
    "years = list(df_avg.index)\n",
    "values = list(np.round(df_avg.values, 3)) # Runden auf 3 Nachkommastellen\n",
    "\n",
    "zipped = zip(years, values) # Funktion zip creates pairs immer 1. Element der 1. Liste mit 1. Element der 2. Liste\n",
    "\n",
    "my_dict = dict(zipped)\n",
    "\n",
    "my_dict\n"
   ]
  },
  {
   "cell_type": "code",
   "execution_count": null,
   "id": "624c103c",
   "metadata": {},
   "outputs": [],
   "source": []
  },
  {
   "cell_type": "code",
   "execution_count": null,
   "id": "b985dea2",
   "metadata": {},
   "outputs": [],
   "source": []
  }
 ],
 "metadata": {
  "kernelspec": {
   "display_name": "Python 3 (ipykernel)",
   "language": "python",
   "name": "python3"
  },
  "language_info": {
   "codemirror_mode": {
    "name": "ipython",
    "version": 3
   },
   "file_extension": ".py",
   "mimetype": "text/x-python",
   "name": "python",
   "nbconvert_exporter": "python",
   "pygments_lexer": "ipython3",
   "version": "3.11.5"
  }
 },
 "nbformat": 4,
 "nbformat_minor": 5
}
